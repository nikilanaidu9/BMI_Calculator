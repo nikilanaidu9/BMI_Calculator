{
 "cells": [
  {
   "cell_type": "code",
   "execution_count": 13,
   "metadata": {},
   "outputs": [
    {
     "name": "stdout",
     "output_type": "stream",
     "text": [
      "BMI:\n",
      "13.5\n",
      "BMI:\n",
      "81.8181818181818\n",
      "nikki is under weight, eat well.\n",
      "Goldy is over weight, follow the diet.\n"
     ]
    }
   ],
   "source": [
    "#BMI Calculator\n",
    "name1 = 'nikki'\n",
    "height_m1 = 2\n",
    "weight_kg1= 54\n",
    "\n",
    "name2 = 'Goldy'\n",
    "height_m2 = 1.1\n",
    "weight_kg2= 99\n",
    "\n",
    "def BMIC(name,height_m,weight_kg):\n",
    "    bmi= weight_kg/(height_m**2)\n",
    "    print('BMI:')\n",
    "    print(bmi)\n",
    "\n",
    "    if bmi < 60:\n",
    "        return name+' is under weight, eat well.'\n",
    "    else:\n",
    "        return name+' is over weight, follow the diet.'\n",
    "result1=BMIC(name1,height_m1,weight_kg1)\n",
    "result2=BMIC(name2,height_m2,weight_kg2)\n",
    "\n",
    "print(result1)\n",
    "print(result2)"
   ]
  },
  {
   "cell_type": "code",
   "execution_count": null,
   "metadata": {},
   "outputs": [],
   "source": []
  }
 ],
 "metadata": {
  "kernelspec": {
   "display_name": "Python 3",
   "language": "python",
   "name": "python3"
  },
  "language_info": {
   "codemirror_mode": {
    "name": "ipython",
    "version": 3
   },
   "file_extension": ".py",
   "mimetype": "text/x-python",
   "name": "python",
   "nbconvert_exporter": "python",
   "pygments_lexer": "ipython3",
   "version": "3.7.4"
  }
 },
 "nbformat": 4,
 "nbformat_minor": 2
}
